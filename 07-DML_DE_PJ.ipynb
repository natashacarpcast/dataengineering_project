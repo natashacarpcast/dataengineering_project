{
 "cells": [
  {
   "cell_type": "code",
   "execution_count": 7,
   "id": "60d3501d-41ae-4cd8-ab4e-a90e663161d2",
   "metadata": {},
   "outputs": [],
   "source": [
    "import pandas as pd\n",
    "import mysql.connector\n",
    "import numpy as np"
   ]
  },
  {
   "cell_type": "code",
   "execution_count": 8,
   "id": "e6be93bb-40ee-4d37-8480-84ae59d2ec4a",
   "metadata": {},
   "outputs": [],
   "source": [
    "brfss_clean = pd.read_csv(\"brfss_processed.csv\")"
   ]
  },
  {
   "cell_type": "code",
   "execution_count": 9,
   "id": "335220b1-dda2-4abf-9e81-b425eb65337f",
   "metadata": {},
   "outputs": [],
   "source": [
    "bool_map = {'Yes': 1, 'No': 0}\n",
    "brfss_clean['smoked_100_cig'] = brfss_clean['smoked_100_cig'].map(bool_map)\n",
    "brfss_clean['physical_activity'] = brfss_clean['physical_activity'].map(bool_map)\n",
    "brfss_clean['overweight'] = brfss_clean['overweight'].map(bool_map)"
   ]
  },
  {
   "cell_type": "code",
   "execution_count": 10,
   "id": "a636da17-8439-44aa-b841-c8f36435b7dc",
   "metadata": {},
   "outputs": [],
   "source": [
    "brfss_clean = brfss_clean.replace({np.nan: None})"
   ]
  },
  {
   "cell_type": "code",
   "execution_count": 11,
   "id": "18294fd7-2019-438c-97cb-311529611a91",
   "metadata": {},
   "outputs": [],
   "source": [
    "brfss_clean = brfss_clean[~brfss_clean['state'].isin(['Guam','Puerto Rico','Virgin Islands'])]"
   ]
  },
  {
   "cell_type": "markdown",
   "id": "69dc2e48-ff7c-4c30-94b0-209e5aa68501",
   "metadata": {},
   "source": [
    "# dim_demographics"
   ]
  },
  {
   "cell_type": "code",
   "execution_count": 12,
   "id": "54ae40d8-7eac-4a6b-9298-2bb6cb8dbee0",
   "metadata": {},
   "outputs": [],
   "source": [
    "dim_demographics = brfss_clean[['sex', 'age', 'education', 'income', 'race']].drop_duplicates().copy()\n",
    "dim_demographics['demographics_key'] = range(0, 11678)"
   ]
  },
  {
   "cell_type": "code",
   "execution_count": 13,
   "id": "aa66553d-d4d3-4309-9e45-e1c530cd20cd",
   "metadata": {},
   "outputs": [],
   "source": [
    "dim_demographics = dim_demographics.rename(columns={\n",
    "    'age': 'age_group',\n",
    "    'education': 'education_level',\n",
    "    'income': 'annual_income',\n",
    "    'race': 'race_ethnicity'\n",
    "})"
   ]
  },
  {
   "cell_type": "code",
   "execution_count": 14,
   "id": "d529b3f4-10f1-4576-b1e6-3b32f7ccb146",
   "metadata": {},
   "outputs": [],
   "source": [
    "demographics_values = dim_demographics[['demographics_key','sex', 'age_group', 'education_level', 'annual_income', 'race_ethnicity']].apply(tuple, axis=1).tolist()"
   ]
  },
  {
   "cell_type": "code",
   "execution_count": 15,
   "id": "5a92e8f2-3deb-40ce-b314-a477a9622cf2",
   "metadata": {},
   "outputs": [],
   "source": [
    "demographics_insert_sql = \"\"\"\n",
    "INSERT INTO dim_demographics (demographics_key, sex, age_group, education_level, annual_income, race_ethnicity)\n",
    "VALUES (%s, %s, %s, %s, %s,%s)\n",
    "\"\"\""
   ]
  },
  {
   "cell_type": "code",
   "execution_count": 16,
   "id": "008dfe29-b16e-48db-b70f-37fd76b2cec7",
   "metadata": {},
   "outputs": [],
   "source": [
    "conn = mysql.connector.connect(user = \"root\",\n",
    "                                       password = \"bowser140707\",\n",
    "                                       host = \"localhost\",\n",
    "                                       database = \"HealthCareDB\")\n",
    "cursor = conn.cursor()\n",
    "\n",
    "cursor.executemany(demographics_insert_sql, demographics_values)\n",
    "\n",
    "conn.commit()\n",
    "cursor.close()\n",
    "conn.close()"
   ]
  },
  {
   "cell_type": "markdown",
   "id": "1a1ce5a4-8099-439e-97c3-fe72954f33df",
   "metadata": {},
   "source": [
    "# dim_behaviors"
   ]
  },
  {
   "cell_type": "code",
   "execution_count": 17,
   "id": "f9c213f0-7fdc-4dd2-beee-a11e7ae8dfb4",
   "metadata": {},
   "outputs": [],
   "source": [
    "dim_behaviors = brfss_clean[['smoked_100_cig', 'smoking_frequency', 'physical_activity', 'alcohol']].drop_duplicates().copy()\n",
    "dim_behaviors['behaviors_key'] = range(0, 415)"
   ]
  },
  {
   "cell_type": "code",
   "execution_count": 18,
   "id": "58971fa1-43f3-42aa-8b8a-e1be4d652517",
   "metadata": {},
   "outputs": [],
   "source": [
    "dim_behaviors = dim_behaviors.rename(columns={\n",
    "    'smoked_100_cig': 'smoked_100_lifetime',\n",
    "    'physical_activity': 'reported_exercise',\n",
    "    'alcohol': 'alcohol_use_frequency'\n",
    "})"
   ]
  },
  {
   "cell_type": "code",
   "execution_count": 19,
   "id": "fb80c0a8-1327-41f8-96a8-789df94c42ab",
   "metadata": {},
   "outputs": [],
   "source": [
    "behaviors_values = dim_behaviors[['behaviors_key','smoked_100_lifetime', 'smoking_frequency', 'reported_exercise', 'alcohol_use_frequency']].apply(tuple, axis=1).tolist()"
   ]
  },
  {
   "cell_type": "code",
   "execution_count": 20,
   "id": "aedd3caa-564c-402b-88b1-bde3125f52f5",
   "metadata": {},
   "outputs": [],
   "source": [
    "behaviors_insert_sql = \"\"\"\n",
    "INSERT INTO dim_behaviors\n",
    "  (behaviors_key, smoked_100_lifetime, smoking_frequency, reported_exercise, alcohol_use_frequency)\n",
    "VALUES (%s, %s, %s, %s, %s)\n",
    "\"\"\""
   ]
  },
  {
   "cell_type": "code",
   "execution_count": 21,
   "id": "1867708e-17e8-4f2a-b3f4-133c699cba27",
   "metadata": {},
   "outputs": [],
   "source": [
    "conn = mysql.connector.connect(user = \"root\",\n",
    "                                       password = \"bowser140707\",\n",
    "                                       host = \"localhost\",\n",
    "                                       database = \"HealthCareDB\")\n",
    "cursor = conn.cursor()\n",
    "\n",
    "cursor.executemany(behaviors_insert_sql, behaviors_values)\n",
    "\n",
    "conn.commit()\n",
    "cursor.close()\n",
    "conn.close()"
   ]
  },
  {
   "cell_type": "markdown",
   "id": "1a378f35-1c84-4fc5-b770-22650c96250b",
   "metadata": {},
   "source": [
    "# dim_general_health"
   ]
  },
  {
   "cell_type": "code",
   "execution_count": 22,
   "id": "c09d72ff-81a1-45c7-bebb-551b5ab439c2",
   "metadata": {},
   "outputs": [],
   "source": [
    "dim_general_health = brfss_clean[['gen_health', 'phys_health', 'mental_health']].drop_duplicates().copy()"
   ]
  },
  {
   "cell_type": "code",
   "execution_count": 23,
   "id": "2f8446cf-83fe-4bad-bbee-e93a182fcf93",
   "metadata": {},
   "outputs": [],
   "source": [
    "dim_general_health['general_health_key'] = range(0, len(dim_general_health))"
   ]
  },
  {
   "cell_type": "code",
   "execution_count": 24,
   "id": "c81ed6e4-209a-4315-aad1-a84bf3bf3d4f",
   "metadata": {},
   "outputs": [],
   "source": [
    "dim_general_health = dim_general_health.rename(columns={\n",
    "    'gen_health':     'health_rating',\n",
    "    'phys_health':    'days_physical_health_not_good',\n",
    "    'mental_health':  'days_mental_health_not_good'\n",
    "})"
   ]
  },
  {
   "cell_type": "code",
   "execution_count": 25,
   "id": "11474e84-9e97-4d8c-aa87-bd665ef78869",
   "metadata": {},
   "outputs": [],
   "source": [
    "general_health_values = dim_general_health[\n",
    "    ['general_health_key','health_rating', 'days_physical_health_not_good', 'days_mental_health_not_good']\n",
    "].apply(tuple, axis=1).tolist()"
   ]
  },
  {
   "cell_type": "code",
   "execution_count": 26,
   "id": "f794232c-cdd1-42d4-aa44-3cd04790ac1b",
   "metadata": {},
   "outputs": [],
   "source": [
    "general_health_insert_sql = \"\"\"\n",
    "INSERT INTO dim_general_health\n",
    "  (general_health_key,health_rating, days_physical_health_not_good, days_mental_health_not_good)\n",
    "VALUES (%s, %s, %s, %s)\n",
    "\"\"\""
   ]
  },
  {
   "cell_type": "code",
   "execution_count": 27,
   "id": "384a28d3-c21b-443f-9fd5-82bba4ef4b43",
   "metadata": {},
   "outputs": [],
   "source": [
    "conn = mysql.connector.connect(user = \"root\",\n",
    "                                       password = \"bowser140707\",\n",
    "                                       host = \"localhost\",\n",
    "                                       database = \"HealthCareDB\")\n",
    "cursor = conn.cursor()\n",
    "\n",
    "cursor.executemany(general_health_insert_sql, general_health_values)\n",
    "\n",
    "conn.commit()\n",
    "cursor.close()\n",
    "conn.close()"
   ]
  },
  {
   "cell_type": "markdown",
   "id": "bc231e81-6a83-4f32-b646-e7e784f57689",
   "metadata": {},
   "source": [
    "# dim_checkup_engagement"
   ]
  },
  {
   "cell_type": "code",
   "execution_count": 28,
   "id": "d121136e-84f4-498b-8c0c-f06725ad3893",
   "metadata": {},
   "outputs": [],
   "source": [
    "dim_checkup_engagement = brfss_clean[['cholesterol_check', 'routine_checkup']].drop_duplicates().copy()\n",
    "dim_checkup_engagement['checkup_engagement_key'] = range(0, len(dim_checkup_engagement))"
   ]
  },
  {
   "cell_type": "code",
   "execution_count": 29,
   "id": "e3cae36c-aa19-47d6-b35d-4682e3535b72",
   "metadata": {},
   "outputs": [],
   "source": [
    "dim_checkup_engagement = dim_checkup_engagement.rename(columns={\n",
    "    'cholesterol_check': 'time_since_cholcheck',\n",
    "    'routine_checkup':   'time_since_gencheck'\n",
    "})"
   ]
  },
  {
   "cell_type": "code",
   "execution_count": 30,
   "id": "9cb783b4-87b7-4a43-a335-8f5ce400539c",
   "metadata": {},
   "outputs": [],
   "source": [
    "checkup_engagement_values = dim_checkup_engagement[\n",
    "    ['checkup_engagement_key', 'time_since_cholcheck', 'time_since_gencheck']\n",
    "].apply(tuple, axis=1).tolist()"
   ]
  },
  {
   "cell_type": "code",
   "execution_count": 31,
   "id": "e64d4d97-ecb5-4506-828c-5ed6d289ba53",
   "metadata": {},
   "outputs": [],
   "source": [
    "checkup_engagement_insert_sql = \"\"\"\n",
    "INSERT INTO dim_checkup_engagement\n",
    "  (checkup_engagement_key, time_since_cholcheck, time_since_gencheck)\n",
    "VALUES (%s, %s, %s)\n",
    "\"\"\""
   ]
  },
  {
   "cell_type": "code",
   "execution_count": 32,
   "id": "2cc1eaa3-1014-4b1f-a846-c74c7df3458f",
   "metadata": {},
   "outputs": [],
   "source": [
    "conn = mysql.connector.connect(user = \"root\",\n",
    "                                       password = \"bowser140707\",\n",
    "                                       host = \"localhost\",\n",
    "                                       database = \"HealthCareDB\")\n",
    "cursor = conn.cursor()\n",
    "\n",
    "cursor.executemany(checkup_engagement_insert_sql, checkup_engagement_values)\n",
    "\n",
    "conn.commit()\n",
    "cursor.close()\n",
    "conn.close()"
   ]
  },
  {
   "cell_type": "markdown",
   "id": "fd3c4c09-9325-4919-8e21-662ee453db73",
   "metadata": {},
   "source": [
    "# dim_bmi"
   ]
  },
  {
   "cell_type": "code",
   "execution_count": 33,
   "id": "5bf6bccc-7cf1-493a-9449-da65fff32004",
   "metadata": {},
   "outputs": [],
   "source": [
    "dim_BMI = brfss_clean[['bmi', 'bmi_cat', 'overweight']].drop_duplicates().copy()\n",
    "dim_BMI['bmi_key'] = range(0, len(dim_BMI))"
   ]
  },
  {
   "cell_type": "code",
   "execution_count": 34,
   "id": "68ed7841-3b29-4282-8cb2-31240d68972f",
   "metadata": {},
   "outputs": [],
   "source": [
    "dim_BMI = dim_BMI.rename(columns={\n",
    "    'bmi':            'bmi_value',\n",
    "    'bmi_cat':        'bmi_category',\n",
    "    'overweight':     'overweight_obese'\n",
    "})"
   ]
  },
  {
   "cell_type": "code",
   "execution_count": 35,
   "id": "b86f68c1-834a-4787-a4a3-1986732be17c",
   "metadata": {},
   "outputs": [],
   "source": [
    "bmi_values = dim_BMI[\n",
    "    ['bmi_key','bmi_value', 'bmi_category', 'overweight_obese']\n",
    "].apply(tuple, axis=1).tolist()\n"
   ]
  },
  {
   "cell_type": "code",
   "execution_count": 36,
   "id": "061a5c59-d4ed-491a-bd5e-56f9e39744c7",
   "metadata": {},
   "outputs": [],
   "source": [
    "bmi_insert_sql = \"\"\"\n",
    "INSERT INTO dim_BMI\n",
    "  (bmi_key, bmi_value, bmi_category, overweight_obese)\n",
    "VALUES (%s, %s, %s, %s)\n",
    "\"\"\""
   ]
  },
  {
   "cell_type": "code",
   "execution_count": 37,
   "id": "be0be3f3-c067-48b6-9ee8-be0765b85bb0",
   "metadata": {},
   "outputs": [],
   "source": [
    "conn = mysql.connector.connect(user = \"root\",\n",
    "                                       password = \"bowser140707\",\n",
    "                                       host = \"localhost\",\n",
    "                                       database = \"HealthCareDB\")\n",
    "cursor = conn.cursor()\n",
    "\n",
    "cursor.executemany(bmi_insert_sql, bmi_values)\n",
    "\n",
    "conn.commit()\n",
    "cursor.close()\n",
    "conn.close()"
   ]
  },
  {
   "cell_type": "markdown",
   "id": "76589d44-b0ab-4652-aec5-2a12a59eaf6f",
   "metadata": {},
   "source": [
    "# dim_state"
   ]
  },
  {
   "cell_type": "code",
   "execution_count": 38,
   "id": "5e4cd437-5e17-46c5-9f9c-4f2c21460442",
   "metadata": {},
   "outputs": [],
   "source": [
    "chrr = pd.read_csv(\"chr_processed.csv\")\n",
    "eco = pd.read_csv(\"state.csv\")"
   ]
  },
  {
   "cell_type": "code",
   "execution_count": 39,
   "id": "584a7bff-2fd8-40ed-af25-f1718e703f98",
   "metadata": {},
   "outputs": [],
   "source": [
    "chrr['key'] = range(0, 51)"
   ]
  },
  {
   "cell_type": "code",
   "execution_count": 40,
   "id": "dbd2b720-0422-4b0b-8664-106c0f1b6ef7",
   "metadata": {},
   "outputs": [],
   "source": [
    "chrr_eco_mapped = eco.merge(\n",
    "    chrr[['key', 'state']],\n",
    "    left_on='State', right_on='state',\n",
    "    how='left'\n",
    ")"
   ]
  },
  {
   "cell_type": "code",
   "execution_count": 41,
   "id": "305ac4c0-88ce-443b-bac1-9516be367e97",
   "metadata": {},
   "outputs": [],
   "source": [
    "pop_df = chrr_eco_mapped[['key', 'Population']].drop_duplicates().copy()\n",
    "chrr = chrr.merge(pop_df, on='key', how='left')"
   ]
  },
  {
   "cell_type": "code",
   "execution_count": 42,
   "id": "da8f9c46-a42c-4319-8306-20e6325eea5a",
   "metadata": {},
   "outputs": [],
   "source": [
    "chrr = chrr.replace({np.nan: None})"
   ]
  },
  {
   "cell_type": "code",
   "execution_count": 43,
   "id": "f126f968-fbe0-4bcf-a9f3-bfdd3e4121fe",
   "metadata": {},
   "outputs": [],
   "source": [
    "state_values = chrr[\n",
    "    ['key',\n",
    "        'state',\n",
    "    'Population']\n",
    "].apply(tuple, axis=1).tolist()"
   ]
  },
  {
   "cell_type": "code",
   "execution_count": 44,
   "id": "13aafd92-e7c1-4209-b7f5-7f7c38fb55fd",
   "metadata": {},
   "outputs": [],
   "source": [
    "state_insert_sql = \"\"\"\n",
    "INSERT INTO dim_state\n",
    "  (state_key, state_name,population)\n",
    "VALUES (%s, %s, %s)\n",
    "\"\"\""
   ]
  },
  {
   "cell_type": "code",
   "execution_count": 45,
   "id": "2b7007ff-8867-4a1c-8858-d73e7c16ef7d",
   "metadata": {},
   "outputs": [],
   "source": [
    "conn = mysql.connector.connect(user = \"root\",\n",
    "                                       password = \"bowser140707\",\n",
    "                                       host = \"localhost\",\n",
    "                                       database = \"HealthCareDB\")\n",
    "cursor = conn.cursor()\n",
    "\n",
    "cursor.executemany(state_insert_sql, state_values)\n",
    "\n",
    "conn.commit()\n",
    "cursor.close()\n",
    "conn.close()"
   ]
  },
  {
   "cell_type": "markdown",
   "id": "65caae28-4b9c-4ca8-982d-a0108819d2ab",
   "metadata": {},
   "source": [
    "# dim_state_env"
   ]
  },
  {
   "cell_type": "code",
   "execution_count": 46,
   "id": "c1f603ea-d249-4f6f-8fe3-52eaa9b16cc0",
   "metadata": {},
   "outputs": [],
   "source": [
    "state_env_values = chrr[\n",
    "    ['key',\n",
    "    'avg_pm25',\n",
    "    'water_violation_rate',\n",
    "    'food_env_index',\n",
    "    'exercise_access',\n",
    "    'limited_healthyfood_access']\n",
    "].apply(tuple, axis=1).tolist()\n"
   ]
  },
  {
   "cell_type": "code",
   "execution_count": 47,
   "id": "e56b89f7-953c-433a-9ed5-72b697dbdf8f",
   "metadata": {},
   "outputs": [],
   "source": [
    "state_env_insert_sql = \"\"\"\n",
    "INSERT INTO dim_state_env\n",
    "  (state_key, pm25_level, water_violation_rate, food_env_index, exercise_access, limited_healthyfood_access)\n",
    "VALUES (%s, %s, %s, %s, %s, %s)\n",
    "\"\"\""
   ]
  },
  {
   "cell_type": "code",
   "execution_count": 48,
   "id": "9fe39f46-c369-4bd4-93d7-44c44cada906",
   "metadata": {},
   "outputs": [],
   "source": [
    "conn = mysql.connector.connect(user = \"root\",\n",
    "                                       password = \"bowser140707\",\n",
    "                                       host = \"localhost\",\n",
    "                                       database = \"HealthCareDB\")\n",
    "cursor = conn.cursor()\n",
    "\n",
    "cursor.executemany(state_env_insert_sql, state_env_values)\n",
    "\n",
    "conn.commit()\n",
    "cursor.close()\n",
    "conn.close()"
   ]
  },
  {
   "cell_type": "markdown",
   "id": "8aff1da1-2c45-43e8-b0b8-f5b0aa1ffd06",
   "metadata": {},
   "source": [
    "# dim_eco"
   ]
  },
  {
   "cell_type": "code",
   "execution_count": 49,
   "id": "acfbbac4-9390-45bd-99f7-8dd780aeac19",
   "metadata": {},
   "outputs": [],
   "source": [
    "state_eco_values = chrr_eco_mapped[\n",
    "    ['key',\n",
    "    'GDP (in billions USD)',\n",
    "    'Insurance_Cost_Monthly_USD']\n",
    "].apply(tuple, axis=1).tolist()\n"
   ]
  },
  {
   "cell_type": "code",
   "execution_count": 50,
   "id": "a4090b8d-cabe-4dcc-b5fb-08073d453fd5",
   "metadata": {},
   "outputs": [],
   "source": [
    "state_eco_insert_sql = \"\"\"\n",
    "INSERT INTO dim_state_eco\n",
    "  (state_key, gdp, insurance_cost)\n",
    "VALUES (%s, %s, %s)\n",
    "\"\"\""
   ]
  },
  {
   "cell_type": "code",
   "execution_count": 51,
   "id": "1e0db29e-b238-4fc6-ab28-59918c95e041",
   "metadata": {},
   "outputs": [],
   "source": [
    "conn = mysql.connector.connect(user = \"root\",\n",
    "                                       password = \"bowser140707\",\n",
    "                                       host = \"localhost\",\n",
    "                                       database = \"HealthCareDB\")\n",
    "cursor = conn.cursor()\n",
    "\n",
    "cursor.executemany(state_eco_insert_sql, state_eco_values)\n",
    "\n",
    "conn.commit()\n",
    "cursor.close()\n",
    "conn.close()"
   ]
  },
  {
   "cell_type": "markdown",
   "id": "1100f570-6c74-4b15-b80f-96d843b5bd66",
   "metadata": {},
   "source": [
    "# fact table"
   ]
  },
  {
   "cell_type": "code",
   "execution_count": 52,
   "id": "26792d38-5a63-4882-a7b4-c9a7d1c73c1a",
   "metadata": {},
   "outputs": [],
   "source": [
    "fact_df = brfss_clean.reset_index(drop=True).copy()"
   ]
  },
  {
   "cell_type": "code",
   "execution_count": 53,
   "id": "c380c683-7a01-48f9-b0b2-cad4b8f62b74",
   "metadata": {},
   "outputs": [],
   "source": [
    "fact_df['respondent_id'] = range(0, 425106)"
   ]
  },
  {
   "cell_type": "code",
   "execution_count": 54,
   "id": "62826399-60eb-42f7-94c2-49c891824adf",
   "metadata": {},
   "outputs": [],
   "source": [
    "fact_df = fact_df.rename(columns={\n",
    "    'age':'age_group',\n",
    "    'education':'education_level',\n",
    "    'income':'annual_income',\n",
    "    'race':'race_ethnicity'\n",
    "})\n",
    "fact_df = fact_df.merge(\n",
    "    dim_demographics[['demographics_key','sex','age_group','education_level','annual_income','race_ethnicity']],\n",
    "    on=['sex','age_group','education_level','annual_income','race_ethnicity'],\n",
    "    how='left'\n",
    ")"
   ]
  },
  {
   "cell_type": "code",
   "execution_count": null,
   "id": "605223b7-e194-49a6-a09b-4a696aab4db4",
   "metadata": {},
   "outputs": [],
   "source": [
    "fact_df = fact_df.rename(columns={\n",
    "    'smoked_100_cig':'smoked_100_lifetime',\n",
    "    'physical_activity':'reported_exercise',\n",
    "    'alcohol':'alcohol_use_frequency'\n",
    "})\n",
    "\n",
    "\n",
    "fact_df = fact_df.merge(\n",
    "    dim_behaviors[['behaviors_key','smoked_100_lifetime','smoking_frequency','reported_exercise','alcohol_use_frequency']],\n",
    "    on=['smoked_100_lifetime','smoking_frequency','reported_exercise','alcohol_use_frequency'],\n",
    "    how='left'\n",
    ")"
   ]
  },
  {
   "cell_type": "code",
   "execution_count": null,
   "id": "fb550f75-b777-4735-b8dd-5594bc575c8c",
   "metadata": {},
   "outputs": [],
   "source": [
    "fact_df = fact_df.rename(columns={\n",
    "    'gen_health':'health_rating',\n",
    "    'phys_health':'days_physical_health_not_good',\n",
    "    'mental_health':'days_mental_health_not_good'\n",
    "})\n",
    "fact_df = fact_df.merge(\n",
    "    dim_general_health[['general_health_key','health_rating','days_physical_health_not_good','days_mental_health_not_good']],\n",
    "    on=['health_rating','days_physical_health_not_good','days_mental_health_not_good'],\n",
    "    how='left'\n",
    ")\n"
   ]
  },
  {
   "cell_type": "code",
   "execution_count": null,
   "id": "0c1531da-6b8b-4ae0-bd28-b2f32d5169ed",
   "metadata": {},
   "outputs": [],
   "source": [
    "fact_df = fact_df.rename(columns={\n",
    "    'cholesterol_check':'time_since_cholcheck',\n",
    "    'routine_checkup':'time_since_gencheck'\n",
    "})\n",
    "fact_df = fact_df.merge(\n",
    "    dim_checkup_engagement[['checkup_engagement_key','time_since_cholcheck','time_since_gencheck']],\n",
    "    on=['time_since_cholcheck','time_since_gencheck'],\n",
    "    how='left'\n",
    ")"
   ]
  },
  {
   "cell_type": "code",
   "execution_count": null,
   "id": "9d97cb43-f0dd-4008-b6ac-bf7981a33c37",
   "metadata": {},
   "outputs": [],
   "source": [
    "fact_df = fact_df.rename(columns={\n",
    "    'bmi':'bmi_value',\n",
    "    'bmi_cat':'bmi_category',\n",
    "    'overweight':'overweight_obese'\n",
    "})\n",
    "\n",
    "fact_df = fact_df.merge(\n",
    "    dim_BMI[['bmi_key','bmi_value','bmi_category','overweight_obese']],\n",
    "    on=['bmi_value','bmi_category','overweight_obese'],\n",
    "    how='left'\n",
    ")"
   ]
  },
  {
   "cell_type": "code",
   "execution_count": null,
   "id": "65433ace-fc7a-44aa-953c-96650d76c592",
   "metadata": {},
   "outputs": [],
   "source": [
    "dim_state = pd.read_csv('dim_state.csv')"
   ]
  },
  {
   "cell_type": "code",
   "execution_count": null,
   "id": "14628020-918c-4647-aa65-6b9cb5a86615",
   "metadata": {},
   "outputs": [],
   "source": [
    "fact_df = fact_df.merge(\n",
    "    dim_state, \n",
    "    left_on='state', \n",
    "    right_on='state_name', \n",
    "    how='left'\n",
    ")"
   ]
  },
  {
   "cell_type": "code",
   "execution_count": null,
   "id": "7d092067-515c-46f1-8ffe-76fa413f1fbe",
   "metadata": {},
   "outputs": [],
   "source": [
    "fact_heart_health = fact_df[\n",
    "    ['respondent_id',\n",
    "     'heart_disease',\n",
    "     'heart_attack',\n",
    "     'high_blood_pressure','diabetes','stroke',\n",
    "     'demographics_key','behaviors_key','general_health_key',\n",
    "     'checkup_engagement_key','bmi_key','state_key']\n",
    "].rename(columns={\n",
    "    'heart_disease':'heart_disease_diagnosis',\n",
    "    'heart_attack': 'heart_attack_diagnosis',\n",
    "    'high_blood_pressure':'high_blood_pressure_diagnosis',\n",
    "    'diabetes':'diabetes_diagnosis',\n",
    "    'stroke':'stroke_diagnosis'\n",
    "})"
   ]
  },
  {
   "cell_type": "code",
   "execution_count": null,
   "id": "3ecb3ebe-b182-432a-9fcc-34100d0868b3",
   "metadata": {},
   "outputs": [],
   "source": [
    "heart_health_values = fact_heart_health.apply(tuple, axis=1).tolist()"
   ]
  },
  {
   "cell_type": "code",
   "execution_count": null,
   "id": "ff1047f2-490c-4e4c-9828-6a1993dc4abe",
   "metadata": {},
   "outputs": [],
   "source": [
    "heart_health_insert_sql = \"\"\"\n",
    "INSERT INTO fact_heart_health\n",
    "  (respondent_id,\n",
    "   heart_disease_diagnosis,\n",
    "   heart_attack_diagnosis,\n",
    "   high_blood_pressure_diagnosis,\n",
    "   diabetes_diagnosis,\n",
    "   stroke_diagnosis,\n",
    "   demographics_key,\n",
    "   behaviors_key,\n",
    "   general_health_key,\n",
    "   checkup_engagement_key,\n",
    "   bmi_key,\n",
    "   state_key)\n",
    "VALUES (%s, %s, %s, %s, %s, %s, %s, %s, %s, %s, %s, %s)\n",
    "\"\"\""
   ]
  },
  {
   "cell_type": "code",
   "execution_count": null,
   "id": "7171f0a7-e8fb-41c1-be8d-187649978da0",
   "metadata": {},
   "outputs": [],
   "source": [
    "conn = mysql.connector.connect(user = \"root\",\n",
    "                                       password = \"bowser140707\",\n",
    "                                       host = \"localhost\",\n",
    "                                       database = \"HealthCareDB\")\n",
    "cursor = conn.cursor()\n",
    "\n",
    "cursor.executemany(heart_health_insert_sql, heart_health_values)\n",
    "\n",
    "conn.commit()\n",
    "cursor.close()\n",
    "conn.close()"
   ]
  }
 ],
 "metadata": {
  "kernelspec": {
   "display_name": "Python 3 (ipykernel)",
   "language": "python",
   "name": "python3"
  },
  "language_info": {
   "codemirror_mode": {
    "name": "ipython",
    "version": 3
   },
   "file_extension": ".py",
   "mimetype": "text/x-python",
   "name": "python",
   "nbconvert_exporter": "python",
   "pygments_lexer": "ipython3",
   "version": "3.11.8"
  }
 },
 "nbformat": 4,
 "nbformat_minor": 5
}
